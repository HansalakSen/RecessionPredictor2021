{
  "nbformat": 4,
  "nbformat_minor": 0,
  "metadata": {
    "colab": {
      "provenance": []
    },
    "kernelspec": {
      "name": "python3",
      "display_name": "Python 3"
    }
  },
  "cells": [
    {
      "cell_type": "markdown",
      "metadata": {
        "id": "UzPCObPmqqJl"
      },
      "source": [
        "## Recession Predictor Code\n"
      ]
    },
    {
      "cell_type": "code",
      "metadata": {
        "id": "tt2YbTlsqwVR"
      },
      "source": [
        "# Courtesy - https://colab.research.google.com/drive/16_L6VEZtCy2V_TVT1dVysBUt89brT2nq#scrollTo=sZzat2JbJBuy"
      ],
      "execution_count": null,
      "outputs": []
    },
    {
      "cell_type": "code",
      "metadata": {
        "id": "a_r4c62EhCvR"
      },
      "source": [
        "import pandas as pd"
      ],
      "execution_count": null,
      "outputs": []
    },
    {
      "cell_type": "code",
      "metadata": {
        "colab": {
          "resources": {
            "http://localhost:8080/nbextensions/google.colab/files.js": {
              "data": "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",
              "ok": true,
              "headers": [
                [
                  "content-type",
                  "application/javascript"
                ]
              ],
              "status": 200,
              "status_text": ""
            }
          },
          "base_uri": "https://localhost:8080/",
          "height": 74
        },
        "id": "gW0sYlr4j_Zx",
        "outputId": "e6d14bef-34ee-4fa7-c62e-27702cba0e5a"
      },
      "source": [
        "from google.colab import files\n",
        "uploaded = files.upload()"
      ],
      "execution_count": null,
      "outputs": [
        {
          "output_type": "display_data",
          "data": {
            "text/html": [
              "\n",
              "     <input type=\"file\" id=\"files-1c4859a2-dce3-4549-be40-4549925be03e\" name=\"files[]\" multiple disabled\n",
              "        style=\"border:none\" />\n",
              "     <output id=\"result-1c4859a2-dce3-4549-be40-4549925be03e\">\n",
              "      Upload widget is only available when the cell has been executed in the\n",
              "      current browser session. Please rerun this cell to enable.\n",
              "      </output>\n",
              "      <script src=\"/nbextensions/google.colab/files.js\"></script> "
            ],
            "text/plain": [
              "<IPython.core.display.HTML object>"
            ]
          },
          "metadata": {
            "tags": []
          }
        },
        {
          "output_type": "stream",
          "text": [
            "Saving Dataset.csv to Dataset (2).csv\n"
          ],
          "name": "stdout"
        }
      ]
    },
    {
      "cell_type": "code",
      "metadata": {
        "id": "DPliHqtmkyyq",
        "colab": {
          "base_uri": "https://localhost:8080/"
        },
        "outputId": "8c707303-89a4-4b4f-8b47-08cf35c53890"
      },
      "source": [
        "import io\n",
        "df = pd.read_csv(io.BytesIO(uploaded['Dataset.csv']))\n",
        "print(df)"
      ],
      "execution_count": null,
      "outputs": [
        {
          "output_type": "stream",
          "text": [
            "    quarter  US03M_1   US02Y  ...  gdp_growth  real_growth  recession\n",
            "0         1   6.0408  6.4420  ...        5.83        -0.20          1\n",
            "1         2   6.0375  5.6386  ...        5.79        -0.24          1\n",
            "2         3   4.3416  4.3920  ...        5.45        -0.25          1\n",
            "3         4   3.2079  3.6022  ...        4.86        -0.74          1\n",
            "4         5   1.8134  2.9263  ...        7.99         2.99          0\n",
            "..      ...      ...     ...  ...         ...          ...        ...\n",
            "75       76   4.3671  4.4713  ...        7.82         3.55          0\n",
            "76       77   4.5425  5.1840  ...        8.63         3.80          0\n",
            "77       78   4.8216  5.6772  ...        8.14         2.91          0\n",
            "78       79   5.4744  6.2851  ...        7.81         3.14          0\n",
            "79       80   5.8201  6.4519  ...        6.44         1.94          0\n",
            "\n",
            "[80 rows x 11 columns]\n"
          ],
          "name": "stdout"
        }
      ]
    },
    {
      "cell_type": "code",
      "metadata": {
        "id": "FawtUAN6U666"
      },
      "source": [
        "import matplotlib as mpl\n",
        "import matplotlib.pyplot as plt"
      ],
      "execution_count": null,
      "outputs": []
    },
    {
      "cell_type": "code",
      "metadata": {
        "colab": {
          "base_uri": "https://localhost:8080/",
          "height": 514
        },
        "id": "0lGPvX4tU7fL",
        "outputId": "828bc3d3-ae54-4e28-a7d2-4fbf2c95a6b0"
      },
      "source": [
        "fig = plt.figure(figsize=(20,25//3))\n",
        "ax1 = plt.subplot()\n",
        "\n",
        "# Take a fraction of the samples where target value (recession) is 0 (no recession)\n",
        "df_no = df[df.recession == 0].sample(frac=0.15)\n",
        "\n",
        "# Take all samples where target value is 1 (recession)\n",
        "df_yes = df[df.recession == 1]\n",
        "df_ = df_no.append(df_yes)\n",
        "\n",
        "# build scatterplot using matplotlib\n",
        "ax1.scatter(df_yes.gdp_growth, df_yes.inflation_avg, s=40, c='orange', marker='+', linewidths=1)\n",
        "ax1.scatter(df_no.gdp_growth, df_no.inflation_avg, s=40, marker='o', linewidths='1', edgecolors='blue', facecolors='white', alpha=.6)\n",
        "\n",
        "ax1.set_ylim(ymin=0)\n",
        "ax1.set_ylabel('Inflation Yearly Avg')\n",
        "ax1.set_xlim(xmin=0)\n",
        "ax1.set_xlabel('GDP Growth')\n"
      ],
      "execution_count": null,
      "outputs": [
        {
          "output_type": "execute_result",
          "data": {
            "text/plain": [
              "Text(0.5, 0, 'GDP Growth')"
            ]
          },
          "metadata": {
            "tags": []
          },
          "execution_count": 6
        },
        {
          "output_type": "display_data",
          "data": {
            "image/png": "[encoded data removed]",
            "text/plain": [
              "<Figure size 1440x576 with 1 Axes>"
            ]
          },
          "metadata": {
            "tags": [],
            "needs_background": "light"
          }
        }
      ]
    },
    {
      "cell_type": "code",
      "metadata": {
        "id": "D81wR3y3Enub",
        "colab": {
          "base_uri": "https://localhost:8080/"
        },
        "outputId": "dc08f83f-41ce-4c03-8200-1da8f2df7634"
      },
      "source": [
        "import numpy as np\n",
        "import sklearn.linear_model as skl_lm\n",
        "import seaborn as sns\n",
        "import statsmodels.api as sm"
      ],
      "execution_count": null,
      "outputs": [
        {
          "output_type": "stream",
          "text": [
            "/usr/local/lib/python3.6/dist-packages/statsmodels/tools/_testing.py:19: FutureWarning: pandas.util.testing is deprecated. Use the functions in the public API at pandas.testing instead.\n",
            "  import pandas.util.testing as tm\n"
          ],
          "name": "stderr"
        }
      ]
    },
    {
      "cell_type": "markdown",
      "metadata": {
        "id": "gqepG0wOwN-4"
      },
      "source": [
        "## Real Growth vs Recession"
      ]
    },
    {
      "cell_type": "code",
      "metadata": {
        "colab": {
          "base_uri": "https://localhost:8080/"
        },
        "id": "fek7cuXkEnnj",
        "outputId": "5d631f0a-1438-4f8e-9f24-a1ef8998e3ef"
      },
      "source": [
        "X_train = df.real_growth.values.reshape(-1,1) \n",
        "y = df.recession\n",
        "X_test = np.arange(df.real_growth.min(), df.real_growth.max()).reshape(-1,1)\n",
        "\n",
        "clf = skl_lm.LogisticRegression(solver='newton-cg')\n",
        "clf.fit(X_train,y)\n",
        "\n",
        "prob = clf.predict_proba(X_test)\n",
        "print(\"prob =\", prob)"
      ],
      "execution_count": null,
      "outputs": [
        {
          "output_type": "stream",
          "text": [
            "prob = [[2.49787345e-06 9.99997502e-01]\n",
            " [1.68874817e-05 9.99983113e-01]\n",
            " [1.14162468e-04 9.99885838e-01]\n",
            " [7.71326991e-04 9.99228673e-01]\n",
            " [5.19174948e-03 9.94808251e-01]\n",
            " [3.40812605e-02 9.65918739e-01]\n",
            " [1.92602946e-01 8.07397054e-01]\n",
            " [6.17266632e-01 3.82733368e-01]\n",
            " [9.15993089e-01 8.40069109e-02]\n",
            " [9.86616476e-01 1.33835237e-02]\n",
            " [9.97997600e-01 2.00240028e-03]\n",
            " [9.99703318e-01 2.96682429e-04]\n",
            " [9.99956106e-01 4.38935717e-05]\n",
            " [9.99993507e-01 6.49256725e-06]\n",
            " [9.99999040e-01 9.60324815e-07]]\n"
          ],
          "name": "stdout"
        }
      ]
    },
    {
      "cell_type": "code",
      "metadata": {
        "colab": {
          "base_uri": "https://localhost:8080/",
          "height": 389
        },
        "id": "sPjbhKQgEnfb",
        "outputId": "75f2584e-1462-4c41-a2d0-5612afa466fb"
      },
      "source": [
        "fig, (ax1, ax2) = plt.subplots(1,2, figsize=(12,5))\n",
        "# Left plot \n",
        "sns.regplot(df.real_growth, df.recession, order=1, ci=None,\n",
        "            scatter_kws={'color':'orange'},\n",
        "            line_kws={'color':'blue', 'lw':2}, ax=ax1)\n",
        "# Right plot\n",
        "ax2.scatter(X_train, y, color='orange')\n",
        "ax2.plot(X_test, prob[:,1], color='red')\n",
        "\n",
        "for ax in fig.axes:\n",
        "    ax.hlines(1, xmin=ax.xaxis.get_data_interval()[0],\n",
        "              xmax=ax.xaxis.get_data_interval()[1], linestyles='dashed', lw=1)\n",
        "    ax.hlines(0, xmin=ax.xaxis.get_data_interval()[0],\n",
        "              xmax=ax.xaxis.get_data_interval()[1], linestyles='dashed', lw=1)\n",
        "    ax.set_ylabel('Probability of recession')\n",
        "    ax.set_xlabel('real_growth')\n",
        "    ax.set_yticks([0, 0.25, 0.5, 0.75, 1.])\n",
        "    ax.set_xlim(xmin=-5)"
      ],
      "execution_count": null,
      "outputs": [
        {
          "output_type": "stream",
          "text": [
            "/usr/local/lib/python3.6/dist-packages/seaborn/_decorators.py:43: FutureWarning: Pass the following variables as keyword args: x, y. From version 0.12, the only valid positional argument will be `data`, and passing other arguments without an explicit keyword will result in an error or misinterpretation.\n",
            "  FutureWarning\n"
          ],
          "name": "stderr"
        },
        {
          "output_type": "display_data",
          "data": {
            "image/png": "[encoded data removed]",
            "text/plain": [
              "<Figure size 864x360 with 2 Axes>"
            ]
          },
          "metadata": {
            "tags": [],
            "needs_background": "light"
          }
        }
      ]
    },
    {
      "cell_type": "markdown",
      "metadata": {
        "id": "opk_sgL5wVxQ"
      },
      "source": [
        "## 3 Month Bond Yield vs Recession"
      ]
    },
    {
      "cell_type": "code",
      "metadata": {
        "id": "zqIz8iMmEnV0",
        "colab": {
          "base_uri": "https://localhost:8080/"
        },
        "outputId": "cc51de0c-cc3d-413e-848e-de33b9bd58be"
      },
      "source": [
        "X_train = df.US03M_1.values.reshape(-1,1) \n",
        "y = df.recession\n",
        "X_test = np.arange(df.US03M_1.min(), df.US03M_1.max()).reshape(-1,1)\n",
        "\n",
        "clf = skl_lm.LogisticRegression(solver='newton-cg')\n",
        "clf.fit(X_train,y)\n",
        "\n",
        "prob = clf.predict_proba(X_test)\n",
        "print(\"prob =\", prob)"
      ],
      "execution_count": null,
      "outputs": [
        {
          "output_type": "stream",
          "text": [
            "prob = [[0.77226617 0.22773383]\n",
            " [0.76363536 0.23636464]\n",
            " [0.75478132 0.24521868]\n",
            " [0.74570606 0.25429394]\n",
            " [0.73641222 0.26358778]\n",
            " [0.72690311 0.27309689]\n",
            " [0.7171827  0.2828173 ]]\n"
          ],
          "name": "stdout"
        }
      ]
    },
    {
      "cell_type": "code",
      "metadata": {
        "colab": {
          "base_uri": "https://localhost:8080/",
          "height": 388
        },
        "id": "FMLlEOuZv_R7",
        "outputId": "fb239f78-824e-48f4-d135-b10016119520"
      },
      "source": [
        "fig, (ax1, ax2) = plt.subplots(1,2, figsize=(12,5))\n",
        "# Left plot \n",
        "sns.regplot(df.US03M_1, df.recession, order=1, ci=None,\n",
        "            scatter_kws={'color':'orange'},\n",
        "            line_kws={'color':'blue', 'lw':2}, ax=ax1)\n",
        "# Right plot\n",
        "ax2.scatter(X_train, y, color='orange')\n",
        "ax2.plot(X_test, prob[:,1], color='red')\n",
        "\n",
        "for ax in fig.axes:\n",
        "    ax.hlines(1, xmin=ax.xaxis.get_data_interval()[0],\n",
        "              xmax=ax.xaxis.get_data_interval()[1], linestyles='dashed', lw=1)\n",
        "    ax.hlines(0, xmin=ax.xaxis.get_data_interval()[0],\n",
        "              xmax=ax.xaxis.get_data_interval()[1], linestyles='dashed', lw=1)\n",
        "    ax.set_ylabel('Probability of recession')\n",
        "    ax.set_xlabel('US 3 Months Bond Yield')\n",
        "    ax.set_yticks([0, 0.25, 0.5, 0.75, 1.])\n",
        "    ax.set_xlim(xmin=0)"
      ],
      "execution_count": null,
      "outputs": [
        {
          "output_type": "stream",
          "text": [
            "/usr/local/lib/python3.6/dist-packages/seaborn/_decorators.py:43: FutureWarning: Pass the following variables as keyword args: x, y. From version 0.12, the only valid positional argument will be `data`, and passing other arguments without an explicit keyword will result in an error or misinterpretation.\n",
            "  FutureWarning\n"
          ],
          "name": "stderr"
        },
        {
          "output_type": "display_data",
          "data": {
            "image/png": "[encoded data removed]",
            "text/plain": [
              "<Figure size 864x360 with 2 Axes>"
            ]
          },
          "metadata": {
            "tags": [],
            "needs_background": "light"
          }
        }
      ]
    },
    {
      "cell_type": "markdown",
      "metadata": {
        "id": "wl0tI0GxxzsI"
      },
      "source": [
        "## 2 Years Bond Yield vs Recession "
      ]
    },
    {
      "cell_type": "code",
      "metadata": {
        "colab": {
          "base_uri": "https://localhost:8080/"
        },
        "id": "28rCSaxqv_P5",
        "outputId": "173c8b42-3f0b-42d2-9d0d-7c808437875f"
      },
      "source": [
        "X_train = df.US02Y.values.reshape(-1,1) \n",
        "y = df.recession\n",
        "X_test = np.arange(df.US02Y.min(), df.US02Y.max()).reshape(-1,1)\n",
        "\n",
        "clf = skl_lm.LogisticRegression(solver='newton-cg')\n",
        "clf.fit(X_train,y)\n",
        "\n",
        "prob = clf.predict_proba(X_test)\n",
        "print(\"prob =\", prob)"
      ],
      "execution_count": null,
      "outputs": [
        {
          "output_type": "stream",
          "text": [
            "prob = [[0.7314029  0.2685971 ]\n",
            " [0.73820975 0.26179025]\n",
            " [0.74490426 0.25509574]\n",
            " [0.75148521 0.24851479]\n",
            " [0.75795155 0.24204845]\n",
            " [0.76430241 0.23569759]\n",
            " [0.77053708 0.22946292]\n",
            " [0.77665503 0.22334497]]\n"
          ],
          "name": "stdout"
        }
      ]
    },
    {
      "cell_type": "code",
      "metadata": {
        "colab": {
          "base_uri": "https://localhost:8080/",
          "height": 388
        },
        "id": "3lrXzXZgv_Nq",
        "outputId": "3d9ab9c9-185a-45c7-9612-93735e3c5d76"
      },
      "source": [
        "fig, (ax1, ax2) = plt.subplots(1,2, figsize=(12,5))\n",
        "# Left plot \n",
        "sns.regplot(df.US02Y, df.recession, order=1, ci=None,\n",
        "            scatter_kws={'color':'orange'},\n",
        "            line_kws={'color':'blue', 'lw':2}, ax=ax1)\n",
        "# Right plot\n",
        "ax2.scatter(X_train, y, color='orange')\n",
        "ax2.plot(X_test, prob[:,1], color='red')\n",
        "\n",
        "for ax in fig.axes:\n",
        "    ax.hlines(1, xmin=ax.xaxis.get_data_interval()[0],\n",
        "              xmax=ax.xaxis.get_data_interval()[1], linestyles='dashed', lw=1)\n",
        "    ax.hlines(0, xmin=ax.xaxis.get_data_interval()[0],\n",
        "              xmax=ax.xaxis.get_data_interval()[1], linestyles='dashed', lw=1)\n",
        "    ax.set_ylabel('Probability of recession')\n",
        "    ax.set_xlabel('US 2 Years Bond Yield')\n",
        "    ax.set_yticks([0, 0.25, 0.5, 0.75, 1.])\n",
        "    ax.set_xlim(xmin=0)"
      ],
      "execution_count": null,
      "outputs": [
        {
          "output_type": "stream",
          "text": [
            "/usr/local/lib/python3.6/dist-packages/seaborn/_decorators.py:43: FutureWarning: Pass the following variables as keyword args: x, y. From version 0.12, the only valid positional argument will be `data`, and passing other arguments without an explicit keyword will result in an error or misinterpretation.\n",
            "  FutureWarning\n"
          ],
          "name": "stderr"
        },
        {
          "output_type": "display_data",
          "data": {
            "image/png": "[encoded data removed]",
            "text/plain": [
              "<Figure size 864x360 with 2 Axes>"
            ]
          },
          "metadata": {
            "tags": [],
            "needs_background": "light"
          }
        }
      ]
    },
    {
      "cell_type": "markdown",
      "metadata": {
        "id": "1ICHN5U7ySb3"
      },
      "source": [
        "## 3 Years Bond Yield vs Recession"
      ]
    },
    {
      "cell_type": "code",
      "metadata": {
        "colab": {
          "base_uri": "https://localhost:8080/"
        },
        "id": "Twt207Zov_Jt",
        "outputId": "c1403cee-ab56-4f6d-d584-9987aa718851"
      },
      "source": [
        "X_train = df.US03Y.values.reshape(-1,1) \n",
        "y = df.recession\n",
        "X_test = np.arange(df.US03Y.min(), df.US03Y.max()).reshape(-1,1)\n",
        "\n",
        "clf = skl_lm.LogisticRegression(solver='newton-cg')\n",
        "clf.fit(X_train,y)\n",
        "\n",
        "prob = clf.predict_proba(X_test)\n",
        "print(\"prob =\", prob)"
      ],
      "execution_count": null,
      "outputs": [
        {
          "output_type": "stream",
          "text": [
            "prob = [[0.69335115 0.30664885]\n",
            " [0.71445105 0.28554895]\n",
            " [0.73465473 0.26534527]\n",
            " [0.75392129 0.24607871]\n",
            " [0.77222264 0.22777736]\n",
            " [0.78954284 0.21045716]\n",
            " [0.80587709 0.19412291]\n",
            " [0.82123063 0.17876937]]\n"
          ],
          "name": "stdout"
        }
      ]
    },
    {
      "cell_type": "code",
      "metadata": {
        "colab": {
          "base_uri": "https://localhost:8080/",
          "height": 388
        },
        "id": "0ks7gnd_v_Hv",
        "outputId": "4547f80e-ccc8-44fb-d7bf-0dff1b0d2dcc"
      },
      "source": [
        "fig, (ax1, ax2) = plt.subplots(1,2, figsize=(12,5))\n",
        "# Left plot \n",
        "sns.regplot(df.US03Y, df.recession, order=1, ci=None,\n",
        "            scatter_kws={'color':'orange'},\n",
        "            line_kws={'color':'blue', 'lw':2}, ax=ax1)\n",
        "# Right plot\n",
        "ax2.scatter(X_train, y, color='orange')\n",
        "ax2.plot(X_test, prob[:,1], color='red')\n",
        "\n",
        "for ax in fig.axes:\n",
        "    ax.hlines(1, xmin=ax.xaxis.get_data_interval()[0],\n",
        "              xmax=ax.xaxis.get_data_interval()[1], linestyles='dashed', lw=1)\n",
        "    ax.hlines(0, xmin=ax.xaxis.get_data_interval()[0],\n",
        "              xmax=ax.xaxis.get_data_interval()[1], linestyles='dashed', lw=1)\n",
        "    ax.set_ylabel('Probability of recession')\n",
        "    ax.set_xlabel('US 3 Years Bond Yield')\n",
        "    ax.set_yticks([0, 0.25, 0.5, 0.75, 1.])\n",
        "    ax.set_xlim(xmin=0)"
      ],
      "execution_count": null,
      "outputs": [
        {
          "output_type": "stream",
          "text": [
            "/usr/local/lib/python3.6/dist-packages/seaborn/_decorators.py:43: FutureWarning: Pass the following variables as keyword args: x, y. From version 0.12, the only valid positional argument will be `data`, and passing other arguments without an explicit keyword will result in an error or misinterpretation.\n",
            "  FutureWarning\n"
          ],
          "name": "stderr"
        },
        {
          "output_type": "display_data",
          "data": {
            "image/png": "[encoded data removed]",
            "text/plain": [
              "<Figure size 864x360 with 2 Axes>"
            ]
          },
          "metadata": {
            "tags": [],
            "needs_background": "light"
          }
        }
      ]
    },
    {
      "cell_type": "markdown",
      "metadata": {
        "id": "6h4al-3NzE73"
      },
      "source": [
        "## 5 Years Bond Yield vs Recession"
      ]
    },
    {
      "cell_type": "code",
      "metadata": {
        "colab": {
          "base_uri": "https://localhost:8080/"
        },
        "id": "2CrECsExv_Fb",
        "outputId": "7495a06b-7132-482c-d6c6-5c966a6f1994"
      },
      "source": [
        "X_train = df.US05Y.values.reshape(-1,1) \n",
        "y = df.recession\n",
        "X_test = np.arange(df.US05Y.min(), df.US05Y.max()).reshape(-1,1)\n",
        "\n",
        "clf = skl_lm.LogisticRegression(solver='newton-cg')\n",
        "clf.fit(X_train,y)\n",
        "\n",
        "prob = clf.predict_proba(X_test)\n",
        "print(\"prob =\", prob)"
      ],
      "execution_count": null,
      "outputs": [
        {
          "output_type": "stream",
          "text": [
            "prob = [[0.6818782  0.3181218 ]\n",
            " [0.70687747 0.29312253]\n",
            " [0.7306881  0.2693119 ]\n",
            " [0.75323976 0.24676024]\n",
            " [0.77448582 0.22551418]\n",
            " [0.7944019  0.2055981 ]\n",
            " [0.81298383 0.18701617]]\n"
          ],
          "name": "stdout"
        }
      ]
    },
    {
      "cell_type": "code",
      "metadata": {
        "colab": {
          "base_uri": "https://localhost:8080/",
          "height": 388
        },
        "id": "D38XydXlv_Di",
        "outputId": "1f8037fb-0737-48c3-9904-58e47cea2cb5"
      },
      "source": [
        "fig, (ax1, ax2) = plt.subplots(1,2, figsize=(12,5))\n",
        "# Left plot \n",
        "sns.regplot(df.US05Y, df.recession, order=1, ci=None,\n",
        "            scatter_kws={'color':'orange'},\n",
        "            line_kws={'color':'blue', 'lw':2}, ax=ax1)\n",
        "# Right plot\n",
        "ax2.scatter(X_train, y, color='orange')\n",
        "ax2.plot(X_test, prob[:,1], color='red')\n",
        "\n",
        "for ax in fig.axes:\n",
        "    ax.hlines(1, xmin=ax.xaxis.get_data_interval()[0],\n",
        "              xmax=ax.xaxis.get_data_interval()[1], linestyles='dashed', lw=1)\n",
        "    ax.hlines(0, xmin=ax.xaxis.get_data_interval()[0],\n",
        "              xmax=ax.xaxis.get_data_interval()[1], linestyles='dashed', lw=1)\n",
        "    ax.set_ylabel('Probability of recession')\n",
        "    ax.set_xlabel('US 5 Years Bond Yield')\n",
        "    ax.set_yticks([0, 0.25, 0.5, 0.75, 1.])\n",
        "    ax.set_xlim(xmin=0)"
      ],
      "execution_count": null,
      "outputs": [
        {
          "output_type": "stream",
          "text": [
            "/usr/local/lib/python3.6/dist-packages/seaborn/_decorators.py:43: FutureWarning: Pass the following variables as keyword args: x, y. From version 0.12, the only valid positional argument will be `data`, and passing other arguments without an explicit keyword will result in an error or misinterpretation.\n",
            "  FutureWarning\n"
          ],
          "name": "stderr"
        },
        {
          "output_type": "display_data",
          "data": {
            "image/png": "[encoded data removed]",
            "text/plain": [
              "<Figure size 864x360 with 2 Axes>"
            ]
          },
          "metadata": {
            "tags": [],
            "needs_background": "light"
          }
        }
      ]
    },
    {
      "cell_type": "markdown",
      "metadata": {
        "id": "xL7_hpen0FeQ"
      },
      "source": [
        "## 10 Years Bond Yield vs Recession"
      ]
    },
    {
      "cell_type": "code",
      "metadata": {
        "colab": {
          "base_uri": "https://localhost:8080/"
        },
        "id": "AONDA0L5v_Bg",
        "outputId": "e2c29794-02bb-4880-ec10-14ef9149ed98"
      },
      "source": [
        "X_train = df.US10Y.values.reshape(-1,1) \n",
        "y = df.recession\n",
        "X_test = np.arange(df.US10Y.min(), df.US10Y.max()).reshape(-1,1)\n",
        "\n",
        "clf = skl_lm.LogisticRegression(solver='newton-cg')\n",
        "clf.fit(X_train,y)\n",
        "\n",
        "prob = clf.predict_proba(X_test)\n",
        "print(\"prob =\", prob)"
      ],
      "execution_count": null,
      "outputs": [
        {
          "output_type": "stream",
          "text": [
            "prob = [[0.61135658 0.38864342]\n",
            " [0.66708667 0.33291333]\n",
            " [0.7185049  0.2814951 ]\n",
            " [0.76478183 0.23521817]\n",
            " [0.80551031 0.19448969]\n",
            " [0.84065591 0.15934409]\n",
            " [0.87047174 0.12952826]]\n"
          ],
          "name": "stdout"
        }
      ]
    },
    {
      "cell_type": "code",
      "metadata": {
        "colab": {
          "base_uri": "https://localhost:8080/",
          "height": 388
        },
        "id": "tCUn3TBJv-_T",
        "outputId": "d51b9c07-8111-4591-8a26-558cc12c0c76"
      },
      "source": [
        "fig, (ax1, ax2) = plt.subplots(1,2, figsize=(12,5))\n",
        "# Left plot \n",
        "sns.regplot(df.US10Y, df.recession, order=1, ci=None,\n",
        "            scatter_kws={'color':'orange'},\n",
        "            line_kws={'color':'blue', 'lw':2}, ax=ax1)\n",
        "# Right plot\n",
        "ax2.scatter(X_train, y, color='orange')\n",
        "ax2.plot(X_test, prob[:,1], color='red')\n",
        "\n",
        "for ax in fig.axes:\n",
        "    ax.hlines(1, xmin=ax.xaxis.get_data_interval()[0],\n",
        "              xmax=ax.xaxis.get_data_interval()[1], linestyles='dashed', lw=1)\n",
        "    ax.hlines(0, xmin=ax.xaxis.get_data_interval()[0],\n",
        "              xmax=ax.xaxis.get_data_interval()[1], linestyles='dashed', lw=1)\n",
        "    ax.set_ylabel('Probability of recession')\n",
        "    ax.set_xlabel('US 10 Years Bond Yield')\n",
        "    ax.set_yticks([0, 0.25, 0.5, 0.75, 1.])\n",
        "    ax.set_xlim(xmin=0)"
      ],
      "execution_count": null,
      "outputs": [
        {
          "output_type": "stream",
          "text": [
            "/usr/local/lib/python3.6/dist-packages/seaborn/_decorators.py:43: FutureWarning: Pass the following variables as keyword args: x, y. From version 0.12, the only valid positional argument will be `data`, and passing other arguments without an explicit keyword will result in an error or misinterpretation.\n",
            "  FutureWarning\n"
          ],
          "name": "stderr"
        },
        {
          "output_type": "display_data",
          "data": {
            "image/png": "[encoded data removed]",
            "text/plain": [
              "<Figure size 864x360 with 2 Axes>"
            ]
          },
          "metadata": {
            "tags": [],
            "needs_background": "light"
          }
        }
      ]
    },
    {
      "cell_type": "markdown",
      "metadata": {
        "id": "-Y0dYFfy0oWJ"
      },
      "source": [
        "## 30 Years Bond Yield vs Recession"
      ]
    },
    {
      "cell_type": "code",
      "metadata": {
        "colab": {
          "base_uri": "https://localhost:8080/"
        },
        "id": "2TuDi7sqv-9S",
        "outputId": "c9414e08-1433-47ca-ec59-1b98d7ce819b"
      },
      "source": [
        "X_train = df.US30Y.values.reshape(-1,1) \n",
        "y = df.recession\n",
        "X_test = np.arange(df.US30Y.min(), df.US30Y.max()).reshape(-1,1)\n",
        "\n",
        "clf = skl_lm.LogisticRegression(solver='newton-cg')\n",
        "clf.fit(X_train,y)\n",
        "\n",
        "prob = clf.predict_proba(X_test)\n",
        "print(\"prob =\", prob)"
      ],
      "execution_count": null,
      "outputs": [
        {
          "output_type": "stream",
          "text": [
            "prob = [[0.50751913 0.49248087]\n",
            " [0.60612922 0.39387078]\n",
            " [0.69679072 0.30320928]\n",
            " [0.77435254 0.22564746]\n",
            " [0.83672299 0.16327701]\n",
            " [0.88442688 0.11557312]\n",
            " [0.91953368 0.08046632]]\n"
          ],
          "name": "stdout"
        }
      ]
    },
    {
      "cell_type": "code",
      "metadata": {
        "colab": {
          "base_uri": "https://localhost:8080/",
          "height": 388
        },
        "id": "Bj4U5wA-v-7A",
        "outputId": "c479cc32-bb45-4183-c92a-55369ab2a652"
      },
      "source": [
        "fig, (ax1, ax2) = plt.subplots(1,2, figsize=(12,5))\n",
        "# Left plot \n",
        "sns.regplot(df.US30Y, df.recession, order=1, ci=None,\n",
        "            scatter_kws={'color':'orange'},\n",
        "            line_kws={'color':'blue', 'lw':2}, ax=ax1)\n",
        "# Right plot\n",
        "ax2.scatter(X_train, y, color='orange')\n",
        "ax2.plot(X_test, prob[:,1], color='red')\n",
        "\n",
        "for ax in fig.axes:\n",
        "    ax.hlines(1, xmin=ax.xaxis.get_data_interval()[0],\n",
        "              xmax=ax.xaxis.get_data_interval()[1], linestyles='dashed', lw=1)\n",
        "    ax.hlines(0, xmin=ax.xaxis.get_data_interval()[0],\n",
        "              xmax=ax.xaxis.get_data_interval()[1], linestyles='dashed', lw=1)\n",
        "    ax.set_ylabel('Probability of recession')\n",
        "    ax.set_xlabel('US 30 Years Bond Yield')\n",
        "    ax.set_yticks([0, 0.25, 0.5, 0.75, 1.])\n",
        "    ax.set_xlim(xmin=0)"
      ],
      "execution_count": null,
      "outputs": [
        {
          "output_type": "stream",
          "text": [
            "/usr/local/lib/python3.6/dist-packages/seaborn/_decorators.py:43: FutureWarning: Pass the following variables as keyword args: x, y. From version 0.12, the only valid positional argument will be `data`, and passing other arguments without an explicit keyword will result in an error or misinterpretation.\n",
            "  FutureWarning\n"
          ],
          "name": "stderr"
        },
        {
          "output_type": "display_data",
          "data": {
            "image/png": "[encoded data removed]",
            "text/plain": [
              "<Figure size 864x360 with 2 Axes>"
            ]
          },
          "metadata": {
            "tags": [],
            "needs_background": "light"
          }
        }
      ]
    },
    {
      "cell_type": "markdown",
      "metadata": {
        "id": "lmgfFtcRNLol"
      },
      "source": [
        "## หา Standard Error จาก Logistic Regression ของตัวแปรต่าง ๆ ด้วย statistics "
      ]
    },
    {
      "cell_type": "code",
      "metadata": {
        "id": "cSZPixNrNZJ9",
        "colab": {
          "base_uri": "https://localhost:8080/",
          "height": 368
        },
        "outputId": "511627d4-5564-4707-c769-0a03afc8085e"
      },
      "source": [
        "X_test = sm.add_constant(df[['real_growth', 'US03M_1', 'US02Y','US03Y','US05Y','US10Y','US30Y']])\n",
        "est = sm.Logit(y, X_train).fit()\n",
        "est.summary2().tables[1]"
      ],
      "execution_count": null,
      "outputs": [
        {
          "output_type": "stream",
          "text": [
            "Warning: Maximum number of iterations has been exceeded.\n",
            "         Current function value: 0.000000\n",
            "         Iterations: 35\n"
          ],
          "name": "stdout"
        },
        {
          "output_type": "stream",
          "text": [
            "/usr/local/lib/python3.6/dist-packages/statsmodels/base/model.py:512: ConvergenceWarning: Maximum Likelihood optimization failed to converge. Check mle_retvals\n",
            "  \"Check mle_retvals\", ConvergenceWarning)\n"
          ],
          "name": "stderr"
        },
        {
          "output_type": "execute_result",
          "data": {
            "text/html": [
              "<div>\n",
              "<style scoped>\n",
              "    .dataframe tbody tr th:only-of-type {\n",
              "        vertical-align: middle;\n",
              "    }\n",
              "\n",
              "    .dataframe tbody tr th {\n",
              "        vertical-align: top;\n",
              "    }\n",
              "\n",
              "    .dataframe thead th {\n",
              "        text-align: right;\n",
              "    }\n",
              "</style>\n",
              "<table border=\"1\" class=\"dataframe\">\n",
              "  <thead>\n",
              "    <tr style=\"text-align: right;\">\n",
              "      <th></th>\n",
              "      <th>Coef.</th>\n",
              "      <th>Std.Err.</th>\n",
              "      <th>z</th>\n",
              "      <th>P&gt;|z|</th>\n",
              "      <th>[0.025</th>\n",
              "      <th>0.975]</th>\n",
              "    </tr>\n",
              "  </thead>\n",
              "  <tbody>\n",
              "    <tr>\n",
              "      <th>const</th>\n",
              "      <td>-23.696685</td>\n",
              "      <td>1.573382e+07</td>\n",
              "      <td>-0.000002</td>\n",
              "      <td>0.999999</td>\n",
              "      <td>-3.083775e+07</td>\n",
              "      <td>3.083770e+07</td>\n",
              "    </tr>\n",
              "    <tr>\n",
              "      <th>real_growth</th>\n",
              "      <td>-35.077364</td>\n",
              "      <td>2.103820e+06</td>\n",
              "      <td>-0.000017</td>\n",
              "      <td>0.999987</td>\n",
              "      <td>-4.123447e+06</td>\n",
              "      <td>4.123377e+06</td>\n",
              "    </tr>\n",
              "    <tr>\n",
              "      <th>US03M_1</th>\n",
              "      <td>25.013533</td>\n",
              "      <td>7.990993e+06</td>\n",
              "      <td>0.000003</td>\n",
              "      <td>0.999998</td>\n",
              "      <td>-1.566203e+07</td>\n",
              "      <td>1.566208e+07</td>\n",
              "    </tr>\n",
              "    <tr>\n",
              "      <th>US02Y</th>\n",
              "      <td>-84.437533</td>\n",
              "      <td>8.009525e+06</td>\n",
              "      <td>-0.000011</td>\n",
              "      <td>0.999992</td>\n",
              "      <td>-1.569847e+07</td>\n",
              "      <td>1.569830e+07</td>\n",
              "    </tr>\n",
              "    <tr>\n",
              "      <th>US03Y</th>\n",
              "      <td>21.408018</td>\n",
              "      <td>2.061924e+06</td>\n",
              "      <td>0.000010</td>\n",
              "      <td>0.999992</td>\n",
              "      <td>-4.041274e+06</td>\n",
              "      <td>4.041317e+06</td>\n",
              "    </tr>\n",
              "    <tr>\n",
              "      <th>US05Y</th>\n",
              "      <td>42.481354</td>\n",
              "      <td>2.444463e+07</td>\n",
              "      <td>0.000002</td>\n",
              "      <td>0.999999</td>\n",
              "      <td>-4.791055e+07</td>\n",
              "      <td>4.791063e+07</td>\n",
              "    </tr>\n",
              "    <tr>\n",
              "      <th>US10Y</th>\n",
              "      <td>67.436587</td>\n",
              "      <td>5.640417e+07</td>\n",
              "      <td>0.000001</td>\n",
              "      <td>0.999999</td>\n",
              "      <td>-1.105501e+08</td>\n",
              "      <td>1.105502e+08</td>\n",
              "    </tr>\n",
              "    <tr>\n",
              "      <th>US30Y</th>\n",
              "      <td>-58.228406</td>\n",
              "      <td>3.627597e+07</td>\n",
              "      <td>-0.000002</td>\n",
              "      <td>0.999999</td>\n",
              "      <td>-7.109966e+07</td>\n",
              "      <td>7.109954e+07</td>\n",
              "    </tr>\n",
              "  </tbody>\n",
              "</table>\n",
              "</div>"
            ],
            "text/plain": [
              "                 Coef.      Std.Err.  ...        [0.025        0.975]\n",
              "const       -23.696685  1.573382e+07  ... -3.083775e+07  3.083770e+07\n",
              "real_growth -35.077364  2.103820e+06  ... -4.123447e+06  4.123377e+06\n",
              "US03M_1      25.013533  7.990993e+06  ... -1.566203e+07  1.566208e+07\n",
              "US02Y       -84.437533  8.009525e+06  ... -1.569847e+07  1.569830e+07\n",
              "US03Y        21.408018  2.061924e+06  ... -4.041274e+06  4.041317e+06\n",
              "US05Y        42.481354  2.444463e+07  ... -4.791055e+07  4.791063e+07\n",
              "US10Y        67.436587  5.640417e+07  ... -1.105501e+08  1.105502e+08\n",
              "US30Y       -58.228406  3.627597e+07  ... -7.109966e+07  7.109954e+07\n",
              "\n",
              "[8 rows x 6 columns]"
            ]
          },
          "metadata": {
            "tags": []
          },
          "execution_count": 23
        }
      ]
    }
  ]
}